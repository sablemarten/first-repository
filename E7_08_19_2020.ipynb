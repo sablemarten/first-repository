{
 "cells": [
  {
   "cell_type": "markdown",
   "metadata": {},
   "source": [
    "## E7. 프로젝트 제출"
   ]
  },
  {
   "cell_type": "markdown",
   "metadata": {},
   "source": [
    "### 1) 데이터 준비와 전처리"
   ]
  },
  {
   "cell_type": "code",
   "execution_count": 1,
   "metadata": {},
   "outputs": [
    {
     "data": {
      "text/html": [
       "<div>\n",
       "<style scoped>\n",
       "    .dataframe tbody tr th:only-of-type {\n",
       "        vertical-align: middle;\n",
       "    }\n",
       "\n",
       "    .dataframe tbody tr th {\n",
       "        vertical-align: top;\n",
       "    }\n",
       "\n",
       "    .dataframe thead th {\n",
       "        text-align: right;\n",
       "    }\n",
       "</style>\n",
       "<table border=\"1\" class=\"dataframe\">\n",
       "  <thead>\n",
       "    <tr style=\"text-align: right;\">\n",
       "      <th></th>\n",
       "      <th>user_id</th>\n",
       "      <th>movie_id</th>\n",
       "      <th>rating</th>\n",
       "      <th>timestamp</th>\n",
       "    </tr>\n",
       "  </thead>\n",
       "  <tbody>\n",
       "    <tr>\n",
       "      <th>0</th>\n",
       "      <td>1</td>\n",
       "      <td>1193</td>\n",
       "      <td>5</td>\n",
       "      <td>978300760</td>\n",
       "    </tr>\n",
       "    <tr>\n",
       "      <th>1</th>\n",
       "      <td>1</td>\n",
       "      <td>661</td>\n",
       "      <td>3</td>\n",
       "      <td>978302109</td>\n",
       "    </tr>\n",
       "    <tr>\n",
       "      <th>2</th>\n",
       "      <td>1</td>\n",
       "      <td>914</td>\n",
       "      <td>3</td>\n",
       "      <td>978301968</td>\n",
       "    </tr>\n",
       "    <tr>\n",
       "      <th>3</th>\n",
       "      <td>1</td>\n",
       "      <td>3408</td>\n",
       "      <td>4</td>\n",
       "      <td>978300275</td>\n",
       "    </tr>\n",
       "    <tr>\n",
       "      <th>4</th>\n",
       "      <td>1</td>\n",
       "      <td>2355</td>\n",
       "      <td>5</td>\n",
       "      <td>978824291</td>\n",
       "    </tr>\n",
       "  </tbody>\n",
       "</table>\n",
       "</div>"
      ],
      "text/plain": [
       "   user_id  movie_id  rating  timestamp\n",
       "0        1      1193       5  978300760\n",
       "1        1       661       3  978302109\n",
       "2        1       914       3  978301968\n",
       "3        1      3408       4  978300275\n",
       "4        1      2355       5  978824291"
      ]
     },
     "execution_count": 1,
     "metadata": {},
     "output_type": "execute_result"
    }
   ],
   "source": [
    "import os\n",
    "import pandas as pd\n",
    "\n",
    "rating_file_path=os.getenv('HOME') + '/aiffel/recommendata_iu/data/ml-1m/ratings.dat'\n",
    "ratings_cols = ['user_id', 'movie_id', 'rating', 'timestamp']\n",
    "ratings = pd.read_csv(rating_file_path, sep='::', names=ratings_cols, engine='python')\n",
    "orginal_data_size = len(ratings)\n",
    "ratings.head()"
   ]
  },
  {
   "cell_type": "code",
   "execution_count": 2,
   "metadata": {},
   "outputs": [
    {
     "name": "stdout",
     "output_type": "stream",
     "text": [
      "orginal_data_size: 1000209, filtered_data_size: 836478\n",
      "Ratio of Remaining Data is 83.63%\n"
     ]
    }
   ],
   "source": [
    "ratings = ratings[ratings['rating']>=3]\n",
    "filtered_data_size = len(ratings)\n",
    "\n",
    "print(f'orginal_data_size: {orginal_data_size}, filtered_data_size: {filtered_data_size}')\n",
    "print(f'Ratio of Remaining Data is {filtered_data_size / orginal_data_size:.2%}')"
   ]
  },
  {
   "cell_type": "code",
   "execution_count": 3,
   "metadata": {},
   "outputs": [],
   "source": [
    "# rating 컬럼의 이름을 count로 바꿉니다.\n",
    "ratings.rename(columns={'rating':'star'}, inplace=True)"
   ]
  },
  {
   "cell_type": "code",
   "execution_count": 4,
   "metadata": {},
   "outputs": [
    {
     "data": {
      "text/html": [
       "<div>\n",
       "<style scoped>\n",
       "    .dataframe tbody tr th:only-of-type {\n",
       "        vertical-align: middle;\n",
       "    }\n",
       "\n",
       "    .dataframe tbody tr th {\n",
       "        vertical-align: top;\n",
       "    }\n",
       "\n",
       "    .dataframe thead th {\n",
       "        text-align: right;\n",
       "    }\n",
       "</style>\n",
       "<table border=\"1\" class=\"dataframe\">\n",
       "  <thead>\n",
       "    <tr style=\"text-align: right;\">\n",
       "      <th></th>\n",
       "      <th>movie_id</th>\n",
       "      <th>title</th>\n",
       "      <th>genre</th>\n",
       "    </tr>\n",
       "  </thead>\n",
       "  <tbody>\n",
       "    <tr>\n",
       "      <th>0</th>\n",
       "      <td>1</td>\n",
       "      <td>Toy Story (1995)</td>\n",
       "      <td>Animation|Children's|Comedy</td>\n",
       "    </tr>\n",
       "    <tr>\n",
       "      <th>1</th>\n",
       "      <td>2</td>\n",
       "      <td>Jumanji (1995)</td>\n",
       "      <td>Adventure|Children's|Fantasy</td>\n",
       "    </tr>\n",
       "    <tr>\n",
       "      <th>2</th>\n",
       "      <td>3</td>\n",
       "      <td>Grumpier Old Men (1995)</td>\n",
       "      <td>Comedy|Romance</td>\n",
       "    </tr>\n",
       "    <tr>\n",
       "      <th>3</th>\n",
       "      <td>4</td>\n",
       "      <td>Waiting to Exhale (1995)</td>\n",
       "      <td>Comedy|Drama</td>\n",
       "    </tr>\n",
       "    <tr>\n",
       "      <th>4</th>\n",
       "      <td>5</td>\n",
       "      <td>Father of the Bride Part II (1995)</td>\n",
       "      <td>Comedy</td>\n",
       "    </tr>\n",
       "  </tbody>\n",
       "</table>\n",
       "</div>"
      ],
      "text/plain": [
       "   movie_id                               title                         genre\n",
       "0         1                    Toy Story (1995)   Animation|Children's|Comedy\n",
       "1         2                      Jumanji (1995)  Adventure|Children's|Fantasy\n",
       "2         3             Grumpier Old Men (1995)                Comedy|Romance\n",
       "3         4            Waiting to Exhale (1995)                  Comedy|Drama\n",
       "4         5  Father of the Bride Part II (1995)                        Comedy"
      ]
     },
     "execution_count": 4,
     "metadata": {},
     "output_type": "execute_result"
    }
   ],
   "source": [
    "movie_file_path=os.getenv('HOME') + '/aiffel/recommendata_iu/data/ml-1m/movies.dat'\n",
    "cols = ['movie_id', 'title', 'genre']\n",
    "movies = pd.read_csv(movie_file_path, sep='::', names=cols, engine='python')\n",
    "movies.head()"
   ]
  },
  {
   "cell_type": "markdown",
   "metadata": {},
   "source": [
    "### 2) 분석해봅시다."
   ]
  },
  {
   "cell_type": "code",
   "execution_count": 5,
   "metadata": {},
   "outputs": [
    {
     "data": {
      "text/plain": [
       "user_id        6039\n",
       "movie_id       3628\n",
       "star              3\n",
       "timestamp    412911\n",
       "dtype: int64"
      ]
     },
     "execution_count": 5,
     "metadata": {},
     "output_type": "execute_result"
    }
   ],
   "source": [
    "# - ratings에 있는 유니크한 영화 개수\n",
    "# - rating에 있는 유니크한 사용자 수\n",
    "# - 가장 인기있는 영화 30개(인기순)\n",
    "ratings.nunique()"
   ]
  },
  {
   "cell_type": "code",
   "execution_count": 6,
   "metadata": {},
   "outputs": [
    {
     "data": {
      "text/plain": [
       "movie_id\n",
       "2858    3211\n",
       "260     2910\n",
       "1196    2885\n",
       "1210    2716\n",
       "2028    2561\n",
       "589     2509\n",
       "593     2498\n",
       "1198    2473\n",
       "1270    2460\n",
       "2571    2434\n",
       "480     2413\n",
       "2762    2385\n",
       "608     2371\n",
       "110     2314\n",
       "1580    2297\n",
       "527     2257\n",
       "1197    2252\n",
       "2396    2213\n",
       "1617    2210\n",
       "318     2194\n",
       "858     2167\n",
       "1265    2121\n",
       "1097    2102\n",
       "2997    2066\n",
       "2716    2051\n",
       "296     2030\n",
       "356     2022\n",
       "1240    2019\n",
       "1       2000\n",
       "457     1941\n",
       "Name: user_id, dtype: int64"
      ]
     },
     "execution_count": 6,
     "metadata": {},
     "output_type": "execute_result"
    }
   ],
   "source": [
    "famous_movie = ratings.groupby('movie_id')['user_id'].count()\n",
    "famous_movie.sort_values(ascending=False).head(30)"
   ]
  },
  {
   "cell_type": "markdown",
   "metadata": {},
   "source": [
    "### 3) 내가 선호하는 영화를 5가지 골라서 rating에 추가해 줍시다."
   ]
  },
  {
   "cell_type": "code",
   "execution_count": 10,
   "metadata": {
    "scrolled": true
   },
   "outputs": [
    {
     "data": {
      "text/html": [
       "<div>\n",
       "<style scoped>\n",
       "    .dataframe tbody tr th:only-of-type {\n",
       "        vertical-align: middle;\n",
       "    }\n",
       "\n",
       "    .dataframe tbody tr th {\n",
       "        vertical-align: top;\n",
       "    }\n",
       "\n",
       "    .dataframe thead th {\n",
       "        text-align: right;\n",
       "    }\n",
       "</style>\n",
       "<table border=\"1\" class=\"dataframe\">\n",
       "  <thead>\n",
       "    <tr style=\"text-align: right;\">\n",
       "      <th></th>\n",
       "      <th>user_id</th>\n",
       "      <th>movie_id</th>\n",
       "      <th>star</th>\n",
       "      <th>timestamp</th>\n",
       "    </tr>\n",
       "  </thead>\n",
       "  <tbody>\n",
       "    <tr>\n",
       "      <th>0</th>\n",
       "      <td>6039</td>\n",
       "      <td>3628</td>\n",
       "      <td>5</td>\n",
       "      <td>NaN</td>\n",
       "    </tr>\n",
       "    <tr>\n",
       "      <th>1</th>\n",
       "      <td>6039</td>\n",
       "      <td>3629</td>\n",
       "      <td>5</td>\n",
       "      <td>NaN</td>\n",
       "    </tr>\n",
       "    <tr>\n",
       "      <th>2</th>\n",
       "      <td>6039</td>\n",
       "      <td>3630</td>\n",
       "      <td>5</td>\n",
       "      <td>NaN</td>\n",
       "    </tr>\n",
       "    <tr>\n",
       "      <th>3</th>\n",
       "      <td>6039</td>\n",
       "      <td>3631</td>\n",
       "      <td>5</td>\n",
       "      <td>NaN</td>\n",
       "    </tr>\n",
       "    <tr>\n",
       "      <th>4</th>\n",
       "      <td>6039</td>\n",
       "      <td>3632</td>\n",
       "      <td>5</td>\n",
       "      <td>NaN</td>\n",
       "    </tr>\n",
       "    <tr>\n",
       "      <th>0</th>\n",
       "      <td>kkw</td>\n",
       "      <td>1196</td>\n",
       "      <td>5</td>\n",
       "      <td>NaN</td>\n",
       "    </tr>\n",
       "    <tr>\n",
       "      <th>1</th>\n",
       "      <td>kkw</td>\n",
       "      <td>2997</td>\n",
       "      <td>5</td>\n",
       "      <td>NaN</td>\n",
       "    </tr>\n",
       "    <tr>\n",
       "      <th>2</th>\n",
       "      <td>kkw</td>\n",
       "      <td>356</td>\n",
       "      <td>5</td>\n",
       "      <td>NaN</td>\n",
       "    </tr>\n",
       "    <tr>\n",
       "      <th>3</th>\n",
       "      <td>kkw</td>\n",
       "      <td>2396</td>\n",
       "      <td>5</td>\n",
       "      <td>NaN</td>\n",
       "    </tr>\n",
       "    <tr>\n",
       "      <th>4</th>\n",
       "      <td>kkw</td>\n",
       "      <td>1240</td>\n",
       "      <td>5</td>\n",
       "      <td>NaN</td>\n",
       "    </tr>\n",
       "  </tbody>\n",
       "</table>\n",
       "</div>"
      ],
      "text/plain": [
       "  user_id  movie_id  star  timestamp\n",
       "0    6039      3628     5        NaN\n",
       "1    6039      3629     5        NaN\n",
       "2    6039      3630     5        NaN\n",
       "3    6039      3631     5        NaN\n",
       "4    6039      3632     5        NaN\n",
       "0     kkw      1196     5        NaN\n",
       "1     kkw      2997     5        NaN\n",
       "2     kkw       356     5        NaN\n",
       "3     kkw      2396     5        NaN\n",
       "4     kkw      1240     5        NaN"
      ]
     },
     "execution_count": 10,
     "metadata": {},
     "output_type": "execute_result"
    }
   ],
   "source": [
    "my_favorite = [1196, 2997, 356, 2396, 1240]\n",
    "my_playlist = pd.DataFrame({'user_id': ['kkw']*5, 'movie_id': my_favorite, 'star': [5]*5})\n",
    "# ['user_id', 'movie_id', 'rating', 'timestamp']\n",
    "if not ratings.isin({'user_id':['kkw']})['user_id'].any():  # user_id에 'zimin'이라는 데이터가 없다면\n",
    "    ratings = ratings.append(my_playlist)\n",
    "    \n",
    "ratings.tail(10)"
   ]
  },
  {
   "cell_type": "code",
   "execution_count": 11,
   "metadata": {},
   "outputs": [],
   "source": [
    "# 고유한 유저, 아티스트를 찾아내는 코드\n",
    "user_unique = ratings['user_id'].unique()\n",
    "movie_unique = ratings['movie_id'].unique()\n",
    "\n",
    "# 유저, 아티스트 indexing 하는 코드 idx는 index의 약자입니다.\n",
    "user_to_idx = {v:k for k,v in enumerate(user_unique)}\n",
    "movie_to_idx = {v:k for k,v in enumerate(movie_unique)}"
   ]
  },
  {
   "cell_type": "code",
   "execution_count": 12,
   "metadata": {},
   "outputs": [
    {
     "name": "stdout",
     "output_type": "stream",
     "text": [
      "user_id column indexing OK!!\n",
      "movie_id column indexing OK!!\n"
     ]
    },
    {
     "data": {
      "text/html": [
       "<div>\n",
       "<style scoped>\n",
       "    .dataframe tbody tr th:only-of-type {\n",
       "        vertical-align: middle;\n",
       "    }\n",
       "\n",
       "    .dataframe tbody tr th {\n",
       "        vertical-align: top;\n",
       "    }\n",
       "\n",
       "    .dataframe thead th {\n",
       "        text-align: right;\n",
       "    }\n",
       "</style>\n",
       "<table border=\"1\" class=\"dataframe\">\n",
       "  <thead>\n",
       "    <tr style=\"text-align: right;\">\n",
       "      <th></th>\n",
       "      <th>user_id</th>\n",
       "      <th>movie_id</th>\n",
       "      <th>star</th>\n",
       "      <th>timestamp</th>\n",
       "    </tr>\n",
       "  </thead>\n",
       "  <tbody>\n",
       "    <tr>\n",
       "      <th>0</th>\n",
       "      <td>0</td>\n",
       "      <td>0</td>\n",
       "      <td>5</td>\n",
       "      <td>978300760.0</td>\n",
       "    </tr>\n",
       "    <tr>\n",
       "      <th>1</th>\n",
       "      <td>0</td>\n",
       "      <td>1</td>\n",
       "      <td>3</td>\n",
       "      <td>978302109.0</td>\n",
       "    </tr>\n",
       "    <tr>\n",
       "      <th>2</th>\n",
       "      <td>0</td>\n",
       "      <td>2</td>\n",
       "      <td>3</td>\n",
       "      <td>978301968.0</td>\n",
       "    </tr>\n",
       "    <tr>\n",
       "      <th>3</th>\n",
       "      <td>0</td>\n",
       "      <td>3</td>\n",
       "      <td>4</td>\n",
       "      <td>978300275.0</td>\n",
       "    </tr>\n",
       "    <tr>\n",
       "      <th>4</th>\n",
       "      <td>0</td>\n",
       "      <td>4</td>\n",
       "      <td>5</td>\n",
       "      <td>978824291.0</td>\n",
       "    </tr>\n",
       "    <tr>\n",
       "      <th>...</th>\n",
       "      <td>...</td>\n",
       "      <td>...</td>\n",
       "      <td>...</td>\n",
       "      <td>...</td>\n",
       "    </tr>\n",
       "    <tr>\n",
       "      <th>0</th>\n",
       "      <td>6040</td>\n",
       "      <td>1196</td>\n",
       "      <td>5</td>\n",
       "      <td>NaN</td>\n",
       "    </tr>\n",
       "    <tr>\n",
       "      <th>1</th>\n",
       "      <td>6040</td>\n",
       "      <td>2997</td>\n",
       "      <td>5</td>\n",
       "      <td>NaN</td>\n",
       "    </tr>\n",
       "    <tr>\n",
       "      <th>2</th>\n",
       "      <td>6040</td>\n",
       "      <td>356</td>\n",
       "      <td>5</td>\n",
       "      <td>NaN</td>\n",
       "    </tr>\n",
       "    <tr>\n",
       "      <th>3</th>\n",
       "      <td>6040</td>\n",
       "      <td>2396</td>\n",
       "      <td>5</td>\n",
       "      <td>NaN</td>\n",
       "    </tr>\n",
       "    <tr>\n",
       "      <th>4</th>\n",
       "      <td>6040</td>\n",
       "      <td>1240</td>\n",
       "      <td>5</td>\n",
       "      <td>NaN</td>\n",
       "    </tr>\n",
       "  </tbody>\n",
       "</table>\n",
       "<p>836488 rows × 4 columns</p>\n",
       "</div>"
      ],
      "text/plain": [
       "    user_id  movie_id  star    timestamp\n",
       "0         0         0     5  978300760.0\n",
       "1         0         1     3  978302109.0\n",
       "2         0         2     3  978301968.0\n",
       "3         0         3     4  978300275.0\n",
       "4         0         4     5  978824291.0\n",
       "..      ...       ...   ...          ...\n",
       "0      6040      1196     5          NaN\n",
       "1      6040      2997     5          NaN\n",
       "2      6040       356     5          NaN\n",
       "3      6040      2396     5          NaN\n",
       "4      6040      1240     5          NaN\n",
       "\n",
       "[836488 rows x 4 columns]"
      ]
     },
     "execution_count": 12,
     "metadata": {},
     "output_type": "execute_result"
    }
   ],
   "source": [
    "temp_user_ratings = ratings['user_id'].map(user_to_idx.get).dropna()\n",
    "if len(temp_user_ratings) == len(ratings):   # 모든 row가 정상적으로 인덱싱되었다면\n",
    "    print('user_id column indexing OK!!')\n",
    "    ratings['user_id'] = temp_user_ratings   # data['user_id']을 인덱싱된 Series로 교체해 줍니다. \n",
    "else:\n",
    "    print('user_id column indexing Fail!!')\n",
    "\n",
    "# artist_to_idx을 통해 artist 컬럼도 동일한 방식으로 인덱싱해 줍니다. \n",
    "temp_movie_ratings = ratings['movie_id'].map(movie_to_idx.get).dropna()\n",
    "if len(temp_movie_ratings) == len(ratings):\n",
    "    print('movie_id column indexing OK!!')\n",
    "    ratings['movie_id'] = temp_movie_ratings\n",
    "else:\n",
    "    print('movie_id column indexing Fail!!')\n",
    "\n",
    "ratings"
   ]
  },
  {
   "cell_type": "markdown",
   "metadata": {},
   "source": [
    "### 4) CSR matrix를 직접 만들어 봅시다."
   ]
  },
  {
   "cell_type": "code",
   "execution_count": 13,
   "metadata": {},
   "outputs": [
    {
     "data": {
      "text/plain": [
       "<6041x3633 sparse matrix of type '<class 'numpy.longlong'>'\n",
       "\twith 836488 stored elements in Compressed Sparse Row format>"
      ]
     },
     "execution_count": 13,
     "metadata": {},
     "output_type": "execute_result"
    }
   ],
   "source": [
    "from scipy.sparse import csr_matrix\n",
    "\n",
    "num_user = ratings['user_id'].nunique()\n",
    "num_movie = ratings['movie_id'].nunique()\n",
    "\n",
    "csr_ratings = csr_matrix((ratings.star, (ratings.user_id, ratings.movie_id)), shape= (num_user, num_movie))\n",
    "csr_ratings"
   ]
  },
  {
   "cell_type": "markdown",
   "metadata": {},
   "source": [
    "### 5) als_model = AlternatingLeastSquares 모델을 직접 구성하여 훈련시켜 봅시다."
   ]
  },
  {
   "cell_type": "code",
   "execution_count": 14,
   "metadata": {},
   "outputs": [],
   "source": [
    "from implicit.als import AlternatingLeastSquares\n",
    "import os\n",
    "import numpy as np\n",
    "\n",
    "# implicit 라이브러리에서 권장하고 있는 부분입니다. 학습 내용과는 무관합니다.\n",
    "os.environ['OPENBLAS_NUM_THREADS']='1'\n",
    "os.environ['KMP_DUPLICATE_LIB_OK']='True'\n",
    "os.environ['MKL_NUM_THREADS']='1'"
   ]
  },
  {
   "cell_type": "code",
   "execution_count": 15,
   "metadata": {},
   "outputs": [],
   "source": [
    "# Implicit AlternatingLeastSquares 모델의 선언\n",
    "als_model = AlternatingLeastSquares(factors=100, regularization=0.01, use_gpu=False, iterations=15, dtype=np.float32)"
   ]
  },
  {
   "cell_type": "code",
   "execution_count": 16,
   "metadata": {},
   "outputs": [
    {
     "data": {
      "text/plain": [
       "<3633x6041 sparse matrix of type '<class 'numpy.longlong'>'\n",
       "\twith 836488 stored elements in Compressed Sparse Column format>"
      ]
     },
     "execution_count": 16,
     "metadata": {},
     "output_type": "execute_result"
    }
   ],
   "source": [
    "# als 모델은 input으로 (item X user 꼴의 matrix를 받기 때문에 Transpose해줍니다.)\n",
    "csr_ratings_transpose = csr_ratings.T\n",
    "csr_ratings_transpose"
   ]
  },
  {
   "cell_type": "code",
   "execution_count": 17,
   "metadata": {},
   "outputs": [
    {
     "data": {
      "application/vnd.jupyter.widget-view+json": {
       "model_id": "41e7025e52134b76b55dbd96be849b8c",
       "version_major": 2,
       "version_minor": 0
      },
      "text/plain": [
       "HBox(children=(FloatProgress(value=0.0, max=15.0), HTML(value='')))"
      ]
     },
     "metadata": {},
     "output_type": "display_data"
    },
    {
     "name": "stdout",
     "output_type": "stream",
     "text": [
      "\n"
     ]
    }
   ],
   "source": [
    "als_model.fit(csr_ratings_transpose)"
   ]
  },
  {
   "cell_type": "markdown",
   "metadata": {},
   "source": [
    "### 6) 내가 선호하는 5가지 영화 중 하나와 그 외의 영화 하나를 골라 훈련된 모델이 예측한 나의 선호도를 파악해 보세요."
   ]
  },
  {
   "cell_type": "code",
   "execution_count": 18,
   "metadata": {},
   "outputs": [],
   "source": [
    "kkw, moviiee = user_to_idx['kkw'], movie_to_idx[1240]\n",
    "kkw_vector, moviiee_vector = als_model.user_factors[kkw], als_model.item_factors[moviiee]"
   ]
  },
  {
   "cell_type": "code",
   "execution_count": 19,
   "metadata": {},
   "outputs": [
    {
     "data": {
      "text/plain": [
       "array([-0.14114699, -0.00968625,  0.26436585, -0.07158237, -0.03034601,\n",
       "        0.25939474,  0.5473511 , -0.38065296, -0.6283678 ,  0.06286141,\n",
       "        0.10290731,  0.10709111,  0.32068717, -0.01904651, -0.1900991 ,\n",
       "       -0.18202917, -0.11245142, -0.12953514,  0.5065762 ,  0.7012125 ,\n",
       "        0.33064663, -0.09625311,  0.2638329 , -0.9034742 , -0.2910608 ,\n",
       "        0.04240551, -0.64418143, -0.34187505, -0.4186914 , -0.14473717,\n",
       "       -0.16145211,  0.6728365 ,  0.20930865, -0.11979603, -0.46151543,\n",
       "        0.19340192,  0.19739528,  0.08167242, -0.02873948, -0.1168984 ,\n",
       "       -0.12089578, -0.38670313, -0.22293666,  0.05505537,  0.22312506,\n",
       "        0.14131665, -0.03303442,  0.12732314, -0.20124061,  0.24328578,\n",
       "        0.21517047,  0.25025424,  0.3799161 , -0.18249837,  0.20618062,\n",
       "       -0.00111035, -0.3971548 ,  0.2723403 , -0.11976284, -0.7443592 ,\n",
       "       -0.0449458 , -0.25058025,  0.29443854, -0.01051862,  0.20819719,\n",
       "       -0.03319368, -0.42801434,  0.0492595 ,  0.27974832, -0.09231622,\n",
       "       -0.622374  ,  0.37666762, -0.30216497, -0.0054229 , -0.15919891,\n",
       "        0.4293018 , -0.53606445, -0.08191184, -0.19398811, -0.14013125,\n",
       "        0.7925343 ,  0.13522372,  0.6675279 ,  0.00713726, -0.07529664,\n",
       "        0.05857618,  0.36612037,  0.26116127, -0.4695569 ,  0.08628462,\n",
       "       -0.08562982,  0.21686466,  0.6929575 , -0.00200627,  0.26218647,\n",
       "       -0.00277432,  0.13973454,  0.12667525,  0.01457255,  0.36017537],\n",
       "      dtype=float32)"
      ]
     },
     "execution_count": 19,
     "metadata": {},
     "output_type": "execute_result"
    }
   ],
   "source": [
    "kkw_vector"
   ]
  },
  {
   "cell_type": "code",
   "execution_count": 20,
   "metadata": {},
   "outputs": [
    {
     "data": {
      "text/plain": [
       "array([ 2.42432137e-03,  1.75813539e-03,  2.17608782e-03,  5.53085655e-03,\n",
       "        1.28571521e-02,  1.23175699e-02,  1.49315577e-02, -2.52648327e-03,\n",
       "       -6.66090427e-03,  7.79660931e-03,  5.89159410e-03,  2.50696670e-02,\n",
       "        8.27047415e-03,  1.13445716e-02, -5.86502953e-03, -1.12736365e-02,\n",
       "        9.35721584e-03,  7.15692295e-05,  1.65600665e-02,  1.17140003e-02,\n",
       "        8.47406313e-03,  6.05195435e-03,  1.60498619e-02, -4.69162408e-03,\n",
       "        4.13816702e-03,  9.88070667e-03, -4.64316038e-03, -1.27757723e-02,\n",
       "        5.65175572e-03,  1.11970473e-02,  5.63415512e-03,  1.97772626e-02,\n",
       "        1.18986648e-02, -5.07284515e-03,  1.06119765e-02,  1.28845545e-02,\n",
       "        4.62671230e-03,  2.59857136e-03,  2.00839397e-02, -1.72500452e-03,\n",
       "        3.59021360e-03,  2.86001177e-03,  2.14639679e-03,  5.05094603e-03,\n",
       "        1.73144341e-02,  1.39663452e-02,  1.24426577e-02,  1.08423764e-02,\n",
       "        3.45308939e-03,  1.51251713e-02,  1.51145291e-02,  2.09363867e-02,\n",
       "        8.49436224e-03,  3.97990225e-03,  1.33566372e-03,  1.13743572e-02,\n",
       "        1.60570221e-03,  6.57080906e-03,  7.93165993e-03, -1.62703618e-02,\n",
       "        6.54771412e-03,  1.05093489e-03,  3.93431820e-03,  5.63656865e-03,\n",
       "        4.98934928e-03,  6.44141529e-03, -1.36531275e-02, -8.15331005e-03,\n",
       "        1.17432270e-02,  7.30986334e-03, -4.63673845e-03,  1.13808876e-02,\n",
       "        7.46007077e-04,  1.14311986e-02,  1.29707363e-02,  9.53435525e-03,\n",
       "        7.85729196e-03, -9.02216882e-03,  1.80966016e-02,  1.41693130e-02,\n",
       "        8.88327975e-03,  1.32734263e-02,  1.71533935e-02, -1.61717378e-03,\n",
       "       -3.11790593e-03, -2.74271388e-05,  1.38101792e-02, -1.27493858e-03,\n",
       "       -7.03705847e-03,  9.44670849e-03, -2.58159940e-04,  1.17217554e-02,\n",
       "        1.01375338e-02,  2.20093504e-02,  4.79641138e-03,  6.67396514e-03,\n",
       "        1.51752206e-02,  3.79975443e-03,  6.17331592e-03,  1.77704673e-02],\n",
       "      dtype=float32)"
      ]
     },
     "execution_count": 20,
     "metadata": {},
     "output_type": "execute_result"
    }
   ],
   "source": [
    "moviiee_vector"
   ]
  },
  {
   "cell_type": "code",
   "execution_count": 21,
   "metadata": {},
   "outputs": [
    {
     "data": {
      "text/plain": [
       "0.15819761"
      ]
     },
     "execution_count": 21,
     "metadata": {},
     "output_type": "execute_result"
    }
   ],
   "source": [
    "np.dot(kkw_vector, moviiee_vector)"
   ]
  },
  {
   "cell_type": "markdown",
   "metadata": {},
   "source": [
    "### 7) 내가 좋아하는 영화와 비슷한 영화를 추천받아 봅시다."
   ]
  },
  {
   "cell_type": "code",
   "execution_count": 22,
   "metadata": {},
   "outputs": [
    {
     "data": {
      "text/plain": [
       "[(1111, 0.024987759),\n",
       " (3421, 0.01905517),\n",
       " (3587, 0.019023178),\n",
       " (3391, 0.01835682),\n",
       " (1538, 0.018304683),\n",
       " (3276, 0.018298782),\n",
       " (3251, 0.018246409),\n",
       " (3339, 0.018147826),\n",
       " (2901, 0.018109603),\n",
       " (3341, 0.01808886),\n",
       " (2608, 0.018033212),\n",
       " (3515, 0.017974721),\n",
       " (3459, 0.01794609),\n",
       " (2964, 0.01793765),\n",
       " (3303, 0.01793696)]"
      ]
     },
     "execution_count": 22,
     "metadata": {},
     "output_type": "execute_result"
    }
   ],
   "source": [
    "favorite_movie = 1111\n",
    "movie_id = movie_to_idx[favorite_movie]\n",
    "similar_movie = als_model.similar_items(movie_id, N=15)\n",
    "similar_movie"
   ]
  },
  {
   "cell_type": "code",
   "execution_count": 24,
   "metadata": {},
   "outputs": [
    {
     "data": {
      "text/plain": [
       "[1111,\n",
       " 3421,\n",
       " 3587,\n",
       " 3391,\n",
       " 1538,\n",
       " 3276,\n",
       " 3251,\n",
       " 3339,\n",
       " 2901,\n",
       " 3341,\n",
       " 2608,\n",
       " 3515,\n",
       " 3459,\n",
       " 2964,\n",
       " 3303]"
      ]
     },
     "execution_count": 24,
     "metadata": {},
     "output_type": "execute_result"
    }
   ],
   "source": [
    "#artist_to_idx 를 뒤집어, index로부터 artist 이름을 얻는 dict를 생성합니다. \n",
    "idx_to_movie = {v:k for k,v in movie_to_idx.items()}\n",
    "[idx_to_movie[i[0]] for i in similar_movie]"
   ]
  },
  {
   "cell_type": "code",
   "execution_count": 28,
   "metadata": {},
   "outputs": [
    {
     "name": "stdout",
     "output_type": "stream",
     "text": [
      "슝=3\n"
     ]
    }
   ],
   "source": [
    "def get_similar_movie(movie_name: int):\n",
    "    movie_id = movie_to_idx[movie_name]\n",
    "    similar_movie = als_model.similar_items(movie_id)\n",
    "    similar_movie = [idx_to_movie[i[0]] for i in similar_movie]\n",
    "    return similar_movie\n",
    "\n",
    "print(\"슝=3\")"
   ]
  },
  {
   "cell_type": "code",
   "execution_count": 29,
   "metadata": {},
   "outputs": [
    {
     "data": {
      "text/plain": [
       "[1211, 1172, 1273, 1207, 1187, 1237, 1575, 1561, 1186, 1206]"
      ]
     },
     "execution_count": 29,
     "metadata": {},
     "output_type": "execute_result"
    }
   ],
   "source": [
    "get_similar_movie(1211)"
   ]
  },
  {
   "cell_type": "markdown",
   "metadata": {},
   "source": [
    "### 8) 내가 가장 좋아할 만한 영화들을 추천받아 봅시다."
   ]
  },
  {
   "cell_type": "code",
   "execution_count": 32,
   "metadata": {},
   "outputs": [
    {
     "data": {
      "text/plain": [
       "[(779, 0.1822237),\n",
       " (835, 0.14660968),\n",
       " (542, 0.13492315),\n",
       " (1244, 0.13094108),\n",
       " (1045, 0.12991872),\n",
       " (521, 0.12820736),\n",
       " (82, 0.12539637),\n",
       " (450, 0.12351746),\n",
       " (1186, 0.1218853),\n",
       " (1418, 0.11590825),\n",
       " (1278, 0.11448597),\n",
       " (607, 0.11443292),\n",
       " (1474, 0.113648474),\n",
       " (812, 0.11360572),\n",
       " (1090, 0.109248094),\n",
       " (380, 0.10924411),\n",
       " (337, 0.10848663),\n",
       " (1206, 0.105837926),\n",
       " (817, 0.104897425),\n",
       " (1188, 0.104887255)]"
      ]
     },
     "execution_count": 32,
     "metadata": {},
     "output_type": "execute_result"
    }
   ],
   "source": [
    "user = user_to_idx['kkw']\n",
    "# recommend에서는 user*item CSR Matrix를 받습니다.\n",
    "movie_recommended = als_model.recommend(user, csr_ratings, N=20, filter_already_liked_items=True)\n",
    "movie_recommended"
   ]
  },
  {
   "cell_type": "code",
   "execution_count": 34,
   "metadata": {},
   "outputs": [
    {
     "data": {
      "text/plain": [
       "[779,\n",
       " 835,\n",
       " 542,\n",
       " 1244,\n",
       " 1045,\n",
       " 521,\n",
       " 82,\n",
       " 450,\n",
       " 1186,\n",
       " 1418,\n",
       " 1278,\n",
       " 607,\n",
       " 1474,\n",
       " 812,\n",
       " 1090,\n",
       " 380,\n",
       " 337,\n",
       " 1206,\n",
       " 817,\n",
       " 1188]"
      ]
     },
     "execution_count": 34,
     "metadata": {},
     "output_type": "execute_result"
    }
   ],
   "source": [
    "[idx_to_movie[i[0]] for i in movie_recommended]"
   ]
  },
  {
   "cell_type": "code",
   "execution_count": 40,
   "metadata": {},
   "outputs": [
    {
     "data": {
      "text/plain": [
       "(0.120670864652331,\n",
       " [(356, 0.04728150559849643),\n",
       "  (1196, 0.030429294231113447),\n",
       "  (1240, 0.021686194038425095),\n",
       "  (2396, 0.018746861887559536),\n",
       "  (2997, 0.0025270088967364974)],\n",
       " (array([[0.58421844, 0.13400919, 0.11373016, ..., 0.11504031, 0.11763084,\n",
       "          0.1192164 ],\n",
       "         [0.07829064, 0.58624009, 0.09007172, ..., 0.095482  , 0.06492121,\n",
       "          0.07375198],\n",
       "         [0.06644326, 0.06804454, 0.57571904, ..., 0.04305357, 0.0433837 ,\n",
       "          0.03938692],\n",
       "         ...,\n",
       "         [0.06720867, 0.07139183, 0.04647054, ..., 0.52592705, 0.0181892 ,\n",
       "          0.05879408],\n",
       "         [0.06872211, 0.05382303, 0.04420256, ..., 0.07994895, 0.52112392,\n",
       "          0.00917827],\n",
       "         [0.06964842, 0.05921246, 0.04287727, ..., 0.10644564, 0.06783531,\n",
       "          0.5280709 ]]),\n",
       "  False))"
      ]
     },
     "execution_count": 40,
     "metadata": {},
     "output_type": "execute_result"
    }
   ],
   "source": [
    "recommend = movie_to_idx[1186]\n",
    "explain = als_model.explain(user, csr_ratings, itemid=recommend)\n",
    "explain"
   ]
  },
  {
   "cell_type": "markdown",
   "metadata": {},
   "source": [
    "어렵다. 데이터가 두개로 분리되어 있다는 이유 하나만으로 거대한 벽이 세워진 것 같았다.\n",
    "데이터가 둘로 분리되어 있어서 movie_id를 title로 연결시켜서 불러오는 방법을 구글링해서 찾다가 3)에서 너무 오래 머물러서 우선 뒷부분을 movie_id로 진행했다. 선호하는 영화를 영어 제목으로 입력했었는데, 훈련시키니까 0.000008 이런 식으로 나와서 movie_id 타입에 맞추어 숫자로 입력했다. 그런데 결과가 똑같길래 다시 보니까 '1111' 식으로 입력해서 문제였다. 1111로 작성해 타입을 바꾸었더니 현재의 결과값이 나왔다.\n",
    "마음 같아서는 다른 잘 하는 사람들 처럼 머지를 이용해서 데이터를 묶어서 영화제목이 바로 나왔으면 좋겠는데, 미뤘다가 하지 않는 내 모습을 보면서 지금 제출하는 게 낫겠다 싶어서 제출하기로 정했다."
   ]
  },
  {
   "cell_type": "code",
   "execution_count": null,
   "metadata": {},
   "outputs": [],
   "source": []
  }
 ],
 "metadata": {
  "kernelspec": {
   "display_name": "aiffel",
   "language": "python",
   "name": "aiffel"
  },
  "language_info": {
   "codemirror_mode": {
    "name": "ipython",
    "version": 3
   },
   "file_extension": ".py",
   "mimetype": "text/x-python",
   "name": "python",
   "nbconvert_exporter": "python",
   "pygments_lexer": "ipython3",
   "version": "3.7.6"
  }
 },
 "nbformat": 4,
 "nbformat_minor": 4
}
