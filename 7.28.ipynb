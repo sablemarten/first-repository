{
 "cells": [
  {
   "cell_type": "markdown",
   "metadata": {},
   "source": [
    "# 인공지능과 가위바위보 하기"
   ]
  },
  {
   "cell_type": "markdown",
   "metadata": {},
   "source": [
    "일반적인 딥러닝 기술 순서   \n",
    "데이터 준비->딥러닝 네트워크 설계->학습->테스트"
   ]
  },
  {
   "cell_type": "markdown",
   "metadata": {},
   "source": [
    "데이터셋   \n",
    "학습용 데이터, 검증용 데이터, 시험용 데이터   \n",
    "training, validatiaion, test   \n",
    "   \n",
    "교차 검증 특징\n",
    "정보 리셋, 방식 변경\n",
    "   \n"
   ]
  },
  {
   "cell_type": "markdown",
   "metadata": {},
   "source": [
    "### 데이터 전처리   "
   ]
  },
  {
   "cell_type": "code",
   "execution_count": null,
   "metadata": {},
   "outputs": [],
   "source": [
    "# 이미지 픽셀 값 0~255, 최소값 0, 최대값 1인지 확인   \n",
    "x_train_norm, x_test_norm = x_train / 255.0, x_test / 255.0\n",
    "print('최소값:',np.min(x_train_norm), ' 최대값:',np.max(x_train_norm))"
   ]
  },
  {
   "cell_type": "markdown",
   "metadata": {},
   "source": [
    "사진 데이터 생성 사이트   \n",
    "https://teachablemachine.withgoogle.com/\n",
    "   \n",
    "   \n",
    "### PIL 라이브러리로 이미지 크기 조절   "
   ]
  },
  {
   "cell_type": "code",
   "execution_count": null,
   "metadata": {},
   "outputs": [],
   "source": [
    "import os\n",
    "# 이미지가 저장되어 있는 경로를 작성.\n",
    "image_dir_path = os.getenv(\"HOME\") + \"/aiffel/rock_scissor_paper/scissor\"\n",
    "print(\"이미지 디렉토리 경로: \", image_dir_path)\n",
    "\n",
    "images=glob.glob(image_dir_path + \"/*.jpg\")  \n",
    "\n",
    "# 사이즈를 조절하는 위치.\n",
    "target_size=(28,28)\n",
    "for img in images:\n",
    "    old_img=Image.open(img)\n",
    "    new_img=old_img.resize(target_size,Image.ANTIALIAS)\n",
    "    new_img.save(img,\"JPEG\")\n",
    "# 제대로 작동했는지 확인.\n",
    "print(\"가위 이미지 resize 완료!\")"
   ]
  },
  {
   "cell_type": "markdown",
   "metadata": {},
   "source": [
    "### 딥러닝 네트워크 설계"
   ]
  },
  {
   "cell_type": "code",
   "execution_count": null,
   "metadata": {},
   "outputs": [],
   "source": [
    "import tensorflow as tf\n",
    "from tensorflow import keras\n",
    "import numpy as np\n",
    "\n",
    "#하이퍼파라미터를 변경해서 확인. 일반적으로 높을수록 정확도가 오름.\n",
    "model=keras.models.Sequential()\n",
    "#(픽셀,픽셀,색) 흑백은 1, 칼라는 RGB 3\n",
    "model.add(keras.layers.Conv2D(41, (3,3), activation='relu', input_shape=(28,28,3)))\n",
    "model.add(keras.layers.MaxPool2D(2,2))\n",
    "model.add(keras.layers.Conv2D(82, (3,3), activation='relu'))\n",
    "model.add(keras.layers.MaxPooling2D((2,2)))\n",
    "model.add(keras.layers.Flatten())\n",
    "model.add(keras.layers.Dense(35, activation='relu'))\n",
    "model.add(keras.layers.Dense(3, activation='softmax'))\n",
    "model.summary()"
   ]
  },
  {
   "cell_type": "markdown",
   "metadata": {},
   "source": [
    "### 딥러닝 네트워크 학습"
   ]
  },
  {
   "cell_type": "code",
   "execution_count": null,
   "metadata": {},
   "outputs": [],
   "source": [
    "model.compile(optimizer='adam',\n",
    "             loss='sparse_categorical_crossentropy',\n",
    "             metrics=['accuracy'])\n",
    "\n",
    "model.fit(x_train, y_train, epochs=18)\n",
    "#epochs는 검사횟수, 일반적으로 높을수록 정확도가 오르지만 오버피트 같은 경우 오히려 떨어지는 경우도 잦음."
   ]
  },
  {
   "cell_type": "markdown",
   "metadata": {},
   "source": [
    "### 딥러닝 테스트 데이터 생성"
   ]
  },
  {
   "cell_type": "code",
   "execution_count": null,
   "metadata": {},
   "outputs": [],
   "source": [
    "# x_test, y_test를 만드는 방법은 x_train, y_train을 만드는 방법과 아주 유사합니다.\n",
    "# [[YOUR CODE]]\n",
    "def load_data(img_path):\n",
    "    # 가위 : 0, 바위 : 1, 보 : 2\n",
    "    number_of_data=300   # 가위바위보 이미지 개수 총합에 주의하세요.\n",
    "    img_size=28\n",
    "    color=3\n",
    "    #흑백은 1, 칼라는 3\n",
    "    #이미지 데이터와 라벨(가위 : 0, 바위 : 1, 보 : 2) 데이터를 담을 행렬(matrix) 영역을 생성합니다.\n",
    "    imgs=np.zeros(number_of_data*img_size*img_size*color,dtype=np.int32).reshape(number_of_data,img_size,img_size,color)\n",
    "    labels=np.zeros(number_of_data,dtype=np.int32)\n",
    "​\n",
    "    idx=0\n",
    "    for file in glob.iglob(img_path+'/scissor/*.jpg'): #처음에 이해 못했는데 링크를 이미 앞에서 통합해둔 코드가 있음. \n",
    "        img = np.array(Image.open(file),dtype=np.int32)\n",
    "        imgs[idx,:,:,:]=img    # 데이터 영역에 이미지 행렬을 복사\n",
    "        labels[idx]=0   # 가위 : 0\n",
    "        idx=idx+1\n",
    "​\n",
    "    for file in glob.iglob(img_path+'/rock/*.jpg'):\n",
    "        img = np.array(Image.open(file),dtype=np.int32)\n",
    "        imgs[idx,:,:,:]=img    # 데이터 영역에 이미지 행렬을 복사\n",
    "        labels[idx]=1   # 바위 : 1\n",
    "        idx=idx+1       \n",
    "    \n",
    "    for file in glob.iglob(img_path+'/paper/*.jpg'):\n",
    "        img = np.array(Image.open(file),dtype=np.int32)\n",
    "        imgs[idx,:,:,:]=img    # 데이터 영역에 이미지 행렬을 복사\n",
    "        labels[idx]=2   # 보 : 2\n",
    "        idx=idx+1\n",
    "        \n",
    "    print(\"학습데이터(x_test)의 이미지 개수는\",idx,\"입니다.\")\n",
    "    return imgs, labels\n",
    "​\n",
    "image_dir_path = os.getenv(\"HOME\") + \"/aiffel/rock_scissor_paper2\"\n",
    "(x_test, y_test)=load_data(image_dir_path)\n",
    "x_test_1norm = x_test/255.0   # 입력은 0~1 사이의 값으로 정규화\n",
    "​\n",
    "print(\"x_test shape: {}\".format(x_test.shape)) #용도에 따라 명칭을 바꿔서 작성\n",
    "print(\"y_test shape: {}\".format(y_test.shape)) #용도에 따라 명칭을 바꿔서 작성\n"
   ]
  },
  {
   "cell_type": "markdown",
   "metadata": {},
   "source": [
    "### 테스트"
   ]
  },
  {
   "cell_type": "code",
   "execution_count": null,
   "metadata": {},
   "outputs": [],
   "source": [
    "model.compile(optimizer='adam',\n",
    "              loss='sparse_categorical_crossentropy',\n",
    "              metrics=['accuracy'])\n",
    "\n",
    "model.evaluate(x_test, y_test)"
   ]
  },
  {
   "cell_type": "markdown",
   "metadata": {},
   "source": [
    "### 진행과정 기록   \n",
    "1. 라이브러리 이미지 크기 조절할 때 paper를 papor로 오타를 내서 에러.\n",
    "2. 네트워크 설계 숫자 값에서 하이퍼 파라미터가 아닌 값을 바꿔서 에러.\n",
    "3. 일단 무작정 Conv2D와 Dense값을 높여보았지만 정확도가 크게 올라가지 않음.\n",
    "4. 테스트에 사용하던 데이터와 훈련에 사용하던 데이터를 맞바꿔보았지만 크게 변동은 없음.\n",
    "5. slack에 올라온 데이터값을 추가하고 총값을 안 바꾼 채 10분을 테스트함.\n",
    "6. epochs값을 15이상 올려도 정확도가 눈에 띄게 올라가는 경우는 없었고 오히려 떨어지는 경우가 더 많았음. \n",
    "7. 화면에서 손이 나가지 않도록 다시 촬영하고, 받은 데이터를 섞어서 총 300장으로 훈련 셋과 테스트 셋을 다시 만듬.\n",
    "8. 정확도가 0.9로 높았지만 손실이 2를 넘김. 그래서 손실을 줄이려고 반복해보니 정확도만 떨어짐. 끝내 손실을 1이하로 줄이지 못함."
   ]
  },
  {
   "cell_type": "code",
   "execution_count": null,
   "metadata": {},
   "outputs": [],
   "source": []
  }
 ],
 "metadata": {
  "kernelspec": {
   "display_name": "Python 3",
   "language": "python",
   "name": "python3"
  },
  "language_info": {
   "codemirror_mode": {
    "name": "ipython",
    "version": 3
   },
   "file_extension": ".py",
   "mimetype": "text/x-python",
   "name": "python",
   "nbconvert_exporter": "python",
   "pygments_lexer": "ipython3",
   "version": "3.7.6"
  }
 },
 "nbformat": 4,
 "nbformat_minor": 4
}
